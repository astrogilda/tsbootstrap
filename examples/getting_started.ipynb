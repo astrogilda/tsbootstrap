{
 "cells": [
  {
   "cell_type": "markdown",
   "metadata": {},
   "source": [
    "# Welcome to tsbootstrap\n",
    "\n",
    "`tsbootstrap` is a `sklearn` and `sktime` compatible library of bootstrapping algorithm for time series.\n",
    "This notebook explains how you can start with tsbootstrap. \n",
    "\n"
   ]
  },
  {
   "cell_type": "markdown",
   "metadata": {},
   "source": [
    "## Getting started\n",
    "`tsbootsrap` is following the [`sklearn` design principle](https://scikit-learn.org/stable/developers/develop.html). This means that there are mainly three steps of interaction of a bootstrapper:\n",
    "1. Initiate the bootrapper\n",
    "2. Fitting the bootstrapper\n",
    "3. Transforming the data using the fitted bootstrapper"
   ]
  },
  {
   "cell_type": "markdown",
   "metadata": {},
   "source": [
    "In this example, we use the moving block bootstrapper. Therefore, we instantiate the class. "
   ]
  },
  {
   "cell_type": "code",
   "execution_count": null,
   "metadata": {},
   "outputs": [],
   "source": [
    "from tsbootstrap import MovingBlockBootstrap, MovingBlockBootstrapConfig\n",
    "\n",
    "bootstrapper = MovingBlockBootstrap(block_length=10)"
   ]
  },
  {
   "cell_type": "markdown",
   "metadata": {},
   "source": [
    "After the instantiation, we can fit the bootsrapper. Therefore, we load the airline passenger dataset using the dataset loading functionalities of sktime"
   ]
  },
  {
   "cell_type": "code",
   "execution_count": null,
   "metadata": {},
   "outputs": [],
   "source": [
    "from sktime.datasets import load_airline\n",
    "\n",
    "y = load_airline()\n",
    "\n",
    "bootstrapper.fit(y)"
   ]
  },
  {
   "cell_type": "markdown",
   "metadata": {},
   "source": [
    "After fitting the bootstrapper, we can use the bootstrapper to transform the data"
   ]
  },
  {
   "cell_type": "code",
   "execution_count": null,
   "metadata": {},
   "outputs": [],
   "source": [
    "bootstrapper.transform(y)"
   ]
  },
  {
   "cell_type": "markdown",
   "metadata": {},
   "source": [
    "Instead of calling first `fit` and `transform` afterwards, we can also use the shortcut: `fit_transform`"
   ]
  },
  {
   "cell_type": "code",
   "execution_count": null,
   "metadata": {},
   "outputs": [],
   "source": [
    "bootstrapper.fit_transform(y)"
   ]
  }
 ],
 "metadata": {
  "language_info": {
   "name": "python"
  }
 },
 "nbformat": 4,
 "nbformat_minor": 2
}
